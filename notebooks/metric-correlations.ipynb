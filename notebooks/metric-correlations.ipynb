{
 "cells": [
  {
   "cell_type": "markdown",
   "metadata": {
    "ein.tags": "worksheet-0",
    "slideshow": {
     "slide_type": "-"
    }
   },
   "source": [
    "# Correlation analysis of the metrics time series"
   ]
  },
  {
   "cell_type": "code",
   "execution_count": 1,
   "metadata": {
    "autoscroll": false,
    "collapsed": false,
    "ein.hycell": false,
    "ein.tags": "worksheet-0",
    "slideshow": {
     "slide_type": "-"
    }
   },
   "outputs": [],
   "source": [
    "import pandas as pd\n",
    "import pylandstats as pls\n",
    "import seaborn as sns\n",
    "import swisslandstats as sls\n",
    "\n",
    "from swiss_urbanization.data import settings\n",
    "\n",
    "sns.set()"
   ]
  },
  {
   "cell_type": "code",
   "execution_count": 2,
   "metadata": {
    "autoscroll": false,
    "collapsed": false,
    "ein.hycell": false,
    "ein.tags": "worksheet-0",
    "slideshow": {
     "slide_type": "-"
    }
   },
   "outputs": [],
   "source": [
    "urban_class = settings.EXTRACTS_URBAN\n",
    "nodata = settings.EXTRACTS_NODATA\n",
    "\n",
    "agglomeration_slugs = ['bern', 'lausanne', 'zurich']\n",
    "\n",
    "class_metrics = [\n",
    "    'proportion_of_landscape', 'area_mn', 'largest_patch_index',\n",
    "    'edge_density', 'fractal_dimension_am',\n",
    "    'euclidean_nearest_neighbor_mn', 'landscape_shape_index',\n",
    "    'patch_density'\n",
    "]\n",
    "landscape_metrics = ['contagion', 'shannon_diversity_index']"
   ]
  },
  {
   "cell_type": "code",
   "execution_count": 3,
   "metadata": {
    "autoscroll": false,
    "collapsed": false,
    "ein.hycell": false,
    "ein.tags": "worksheet-0",
    "slideshow": {
     "slide_type": "-"
    }
   },
   "outputs": [],
   "source": [
    "agglomeration_dict = {}\n",
    "for agglomeration_slug in agglomeration_slugs:\n",
    "    ldf = sls.read_csv(\n",
    "        f'../data/processed/agglomeration_extracts/{agglomeration_slug}.csv')\n",
    "    landscapes = []\n",
    "    dates = []\n",
    "    for urban_nonurban_column in ldf.columns[ldf.columns.str.startswith('AS')]:\n",
    "        landscapes.append(\n",
    "            pls.Landscape(\n",
    "                ldf.to_ndarray(urban_nonurban_column, nodata=nodata),\n",
    "                res=ldf.res, nodata=nodata))\n",
    "        # get the year of the snapshot by taking the most recurrent timestamp\n",
    "        # (year) among the pixels\n",
    "        dates.append(\n",
    "            ldf['FJ' + urban_nonurban_column[2:4]].value_counts().index[0])\n",
    "    agglomeration_dict[agglomeration_slug] = pls.SpatioTemporalAnalysis(\n",
    "        landscapes, dates=dates)"
   ]
  },
  {
   "cell_type": "code",
   "execution_count": 4,
   "metadata": {
    "autoscroll": false,
    "collapsed": false,
    "ein.hycell": false,
    "ein.tags": "worksheet-0",
    "slideshow": {
     "slide_type": "-"
    }
   },
   "outputs": [],
   "source": [
    "metrics_df = pd.DataFrame(columns=class_metrics + landscape_metrics)\n",
    "for agglomeration_slug in agglomeration_slugs:\n",
    "    class_metrics_df = agglomeration_dict[agglomeration_slug].class_metrics_df\n",
    "    landscape_metrics_df = agglomeration_dict[\n",
    "        agglomeration_slug].landscape_metrics_df\n",
    "    agglomeration_metrics_df = pd.concat([\n",
    "        class_metrics_df.loc[urban_class][class_metrics],\n",
    "        landscape_metrics_df[landscape_metrics]\n",
    "    ], axis=1)\n",
    "    # need minmax scaling for correlations to work\n",
    "    agglomeration_metrics_df = agglomeration_metrics_df.apply(\n",
    "        pd.to_numeric).apply(\n",
    "            lambda x: (x.astype(float) - min(x)) / (max(x) - min(x)), axis=0)\n",
    "    metrics_df = pd.concat([metrics_df, agglomeration_metrics_df],\n",
    "                           ignore_index=True)"
   ]
  },
  {
   "cell_type": "code",
   "execution_count": null,
   "metadata": {
    "autoscroll": false,
    "collapsed": false,
    "ein.hycell": false,
    "ein.tags": "worksheet-0",
    "slideshow": {
     "slide_type": "-"
    }
   },
   "outputs": [],
   "source": [
    "metrics_df = pd.DataFrame(columns=class_metrics+landscape_metrics)\n",
    "for agglomeration_slug in agglomeration_slugs:\n",
    "    class_metrics_df = agglomeration_dict[agglomeration_slug].class_metrics_df\n",
    "    landscape_metrics_df = agglomeration_dict[\n",
    "        agglomeration_slug].landscape_metrics_df\n",
    "    agglomeration_metrics_df = pd.concat([\n",
    "        class_metrics_df.loc[urban_class][class_metrics],\n",
    "        landscape_metrics_df[landscape_metrics]\n",
    "    ] , axis=1)\n",
    "    # need minmax scaling for correlations to work\n",
    "    agglomeration_metrics_df = agglomeration_metrics_df.apply(pd.to_numeric).apply(lambda x:(x.astype(float) - min(x))/(max(x)-min(x)), axis = 0)\n",
    "    metrics_df = pd.concat([metrics_df, agglomeration_metrics_df], ignore_index=True)"
   ]
  },
  {
   "cell_type": "code",
   "execution_count": 3,
   "metadata": {
    "autoscroll": false,
    "collapsed": false,
    "ein.hycell": false,
    "ein.tags": "worksheet-0",
    "slideshow": {
     "slide_type": "-"
    }
   },
   "outputs": [],
   "source": [
    "city_sta_dict = {\n",
    "    city_slug : pls.SpatioTemporalAnalysis(\n",
    "        ['../data/processed/agglomeration_extracts/'\n",
    "        f'{city_slug}/{year_code}/{year_code}.tif'\n",
    "         for year_code in year_codes],\n",
    "        metrics=class_metrics+landscape_metrics, classes=[1],\n",
    "        dates=year_codes\n",
    "    )\n",
    "    for city_slug in city_slugs\n",
    "}"
   ]
  },
  {
   "cell_type": "code",
   "execution_count": 9,
   "metadata": {
    "autoscroll": false,
    "collapsed": false,
    "ein.hycell": false,
    "ein.tags": "worksheet-0",
    "slideshow": {
     "slide_type": "-"
    }
   },
   "outputs": [],
   "source": [
    "metrics_df = pd.DataFrame(columns=class_metrics+landscape_metrics)\n",
    "for city_slug in city_slugs:\n",
    "    class_metrics_df = city_sta_dict[city_slug].class_metrics_df\n",
    "    landscape_metrics_df = city_sta_dict[city_slug].landscape_metrics_df\n",
    "    city_metrics_df = pd.concat([class_metrics_df.loc[1][class_metrics], landscape_metrics_df[landscape_metrics]], axis=1)\n",
    "    # need minmax scaling for correlations to work\n",
    "    city_metrics_df = city_metrics_df.apply(pd.to_numeric).apply(lambda x:(x.astype(float) - min(x))/(max(x)-min(x)), axis = 0)\n",
    "    metrics_df = pd.concat([metrics_df, city_metrics_df], ignore_index=True)"
   ]
  },
  {
   "cell_type": "code",
   "execution_count": 10,
   "metadata": {
    "autoscroll": false,
    "collapsed": false,
    "ein.hycell": false,
    "ein.tags": "worksheet-0",
    "slideshow": {
     "slide_type": "-"
    }
   },
   "outputs": [
    {
     "data": {
      "text/plain": [
       "metric                          area_mn  proportion_of_landscape  \\\nmetric                                                             \narea_mn                        1.000000                -0.080844   \nproportion_of_landscape       -0.080844                 1.000000   \nlargest_patch_index            0.219710                 0.781128   \nedge_density                  -0.271450                 0.906382   \nfractal_dimension_am          -0.075264                 0.463403   \neuclidean_nearest_neighbor_mn  0.274681                -0.842056   \nlandscape_shape_index         -0.463490                 0.764900   \nnumber_of_patches             -0.631163                 0.703030   \npatch_density                 -0.635539                 0.699083   \ncontagion                      0.151913                -0.988008   \nshannon_diversity_index       -0.075947                 0.999966   \n\nmetric                         largest_patch_index  edge_density  \\\nmetric                                                             \narea_mn                                   0.219710     -0.271450   \nproportion_of_landscape                   0.781128      0.906382   \nlargest_patch_index                       1.000000      0.731547   \nedge_density                              0.731547      1.000000   \nfractal_dimension_am                      0.713129      0.626161   \neuclidean_nearest_neighbor_mn            -0.601058     -0.829242   \nlandscape_shape_index                     0.627399      0.945248   \nnumber_of_patches                         0.360575      0.830754   \npatch_density                             0.357174      0.827305   \ncontagion                                -0.759447     -0.952452   \nshannon_diversity_index                   0.780786      0.903364   \n\nmetric                         fractal_dimension_am  \\\nmetric                                                \narea_mn                                   -0.075264   \nproportion_of_landscape                    0.463403   \nlargest_patch_index                        0.713129   \nedge_density                               0.626161   \nfractal_dimension_am                       1.000000   \neuclidean_nearest_neighbor_mn             -0.351572   \nlandscape_shape_index                      0.713549   \nnumber_of_patches                          0.443444   \npatch_density                              0.447072   \ncontagion                                 -0.521337   \nshannon_diversity_index                    0.460059   \n\nmetric                         euclidean_nearest_neighbor_mn  \\\nmetric                                                         \narea_mn                                             0.274681   \nproportion_of_landscape                            -0.842056   \nlargest_patch_index                                -0.601058   \nedge_density                                       -0.829242   \nfractal_dimension_am                               -0.351572   \neuclidean_nearest_neighbor_mn                       1.000000   \nlandscape_shape_index                              -0.726579   \nnumber_of_patches                                  -0.669138   \npatch_density                                      -0.665857   \ncontagion                                           0.860379   \nshannon_diversity_index                            -0.840179   \n\nmetric                         landscape_shape_index  number_of_patches  \\\nmetric                                                                    \narea_mn                                    -0.463490          -0.631163   \nproportion_of_landscape                     0.764900           0.703030   \nlargest_patch_index                         0.627399           0.360575   \nedge_density                                0.945248           0.830754   \nfractal_dimension_am                        0.713549           0.443444   \neuclidean_nearest_neighbor_mn              -0.726579          -0.669138   \nlandscape_shape_index                       1.000000           0.890116   \nnumber_of_patches                           0.890116           1.000000   \npatch_density                               0.890175           0.999889   \ncontagion                                  -0.832201          -0.756739   \nshannon_diversity_index                     0.760162           0.698858   \n\nmetric                         patch_density  contagion  \\\nmetric                                                    \narea_mn                            -0.635539   0.151913   \nproportion_of_landscape             0.699083  -0.988008   \nlargest_patch_index                 0.357174  -0.759447   \nedge_density                        0.827305  -0.952452   \nfractal_dimension_am                0.447072  -0.521337   \neuclidean_nearest_neighbor_mn      -0.665857   0.860379   \nlandscape_shape_index               0.890175  -0.832201   \nnumber_of_patches                   0.999889  -0.756739   \npatch_density                       1.000000  -0.752945   \ncontagion                          -0.752945   1.000000   \nshannon_diversity_index             0.694891  -0.987118   \n\nmetric                         shannon_diversity_index  \nmetric                                                  \narea_mn                                      -0.075947  \nproportion_of_landscape                       0.999966  \nlargest_patch_index                           0.780786  \nedge_density                                  0.903364  \nfractal_dimension_am                          0.460059  \neuclidean_nearest_neighbor_mn                -0.840179  \nlandscape_shape_index                         0.760162  \nnumber_of_patches                             0.698858  \npatch_density                                 0.694891  \ncontagion                                    -0.987118  \nshannon_diversity_index                       1.000000  "
      ]
     },
     "execution_count": 10,
     "metadata": {},
     "output_type": "execute_result"
    }
   ],
   "source": [
    "metrics_df.corr()"
   ]
  }
 ],
 "metadata": {
  "kernelspec": {
   "display_name": "Python (swiss-urbanization)",
   "name": "swiss-urbanization"
  },
  "name": "metric-correlations.ipynb"
 },
 "nbformat": 4,
 "nbformat_minor": 2
}
