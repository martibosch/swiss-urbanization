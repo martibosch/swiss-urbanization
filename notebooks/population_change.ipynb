{
 "cells": [
  {
   "cell_type": "markdown",
   "metadata": {
    "ein.tags": "worksheet-0",
    "slideshow": {
     "slide_type": "-"
    }
   },
   "source": [
    "# Population change"
   ]
  },
  {
   "cell_type": "code",
   "execution_count": 1,
   "metadata": {
    "autoscroll": false,
    "ein.hycell": false,
    "ein.tags": "worksheet-0",
    "slideshow": {
     "slide_type": "-"
    }
   },
   "outputs": [],
   "source": [
    "import matplotlib.pyplot as plt\n",
    "import numpy as np\n",
    "import pandas as pd\n",
    "import seaborn as sns"
   ]
  },
  {
   "cell_type": "markdown",
   "metadata": {
    "ein.tags": "worksheet-0",
    "slideshow": {
     "slide_type": "-"
    }
   },
   "source": [
    "Values are hand selected from the [Urban Audit 2015](https://www.bfs.admin.ch/bfs/fr/home/statistiques/themes-transversaux/city-statistics.assetdetail.255571.html), namely from the variable DE1001V (Total Resident Population), except for the values from 2017, which are selected from the [Agglomeration portraits](https://www.bfs.admin.ch/bfs/en/home/statistics/cross-sectional-topics/city-statistics/agglomeration-portraits.html)"
   ]
  },
  {
   "cell_type": "code",
   "execution_count": 2,
   "metadata": {
    "autoscroll": false,
    "ein.hycell": false,
    "ein.tags": "worksheet-0",
    "slideshow": {
     "slide_type": "-"
    }
   },
   "outputs": [],
   "source": [
    "population_df = pd.DataFrame({},\n",
    "                             index=[1990, 2000, 2010, 2017],\n",
    "                             columns=pd.MultiIndex.from_product(\n",
    "                                 [['Bern', 'Lausanne', 'Zurich'],\n",
    "                                  ['city', 'agglomeration']]))\n",
    "population_df.loc[:, ('Bern', 'city')] = [136338, 128634, 130289, 133115]\n",
    "population_df.loc[:, ('Bern',\n",
    "                      'agglomeration')] = [351084, 349157, 357668, 415785]\n",
    "population_df.loc[:, ('Lausanne', 'city')] = [128112, 124914, 133269, 137810]\n",
    "population_df.loc[:, ('Lausanne',\n",
    "                      'agglomeration')] = [300280, 311441, 339389, 415596]\n",
    "population_df.loc[:, ('Zurich', 'city')] = [365043, 363273, 382906, 402762]\n",
    "population_df.loc[:, ('Zurich',\n",
    "                      'agglomeration')] = [1021859, 1080728, 1191058, 1354140]"
   ]
  },
  {
   "cell_type": "code",
   "execution_count": 3,
   "metadata": {
    "autoscroll": false,
    "ein.hycell": false,
    "ein.tags": "worksheet-0",
    "slideshow": {
     "slide_type": "-"
    }
   },
   "outputs": [],
   "source": [
    "change_df = population_df.pct_change(fill_method='pad') * 100\n",
    "change_df.index = [0] + [\n",
    "    f'{start}-{end}'\n",
    "    for start, end in zip(change_df.index, change_df.index[1:])\n",
    "]\n",
    "change_df = change_df.dropna().unstack().reset_index()\n",
    "change_df.columns = ['City', 'Extent', 'Period', 'Population change (%)']"
   ]
  },
  {
   "cell_type": "code",
   "execution_count": 4,
   "metadata": {
    "autoscroll": false,
    "ein.hycell": false,
    "ein.tags": "worksheet-0",
    "slideshow": {
     "slide_type": "-"
    }
   },
   "outputs": [
    {
     "data": {
      "image/png": "[encoded data removed]",
      "text/plain": [
       "<Figure size 805.125x360 with 2 Axes>"
      ]
     },
     "metadata": {
      "needs_background": "light"
     },
     "output_type": "display_data"
    }
   ],
   "source": [
    "g = sns.catplot(\n",
    "    data=change_df,\n",
    "    col='Extent',\n",
    "    x='Period',\n",
    "    y='Population change (%)',\n",
    "    hue='City',\n",
    "    kind='bar',\n",
    "    facet_kws={'despine': False})\n",
    "\n",
    "for ax in g.axes[0]:\n",
    "    ax.axhline(0, color='k', linewidth=1)\n",
    "    num_xticks = len(ax.get_xticks())\n",
    "    step = 1 / num_xticks\n",
    "    for x in np.arange(step, 1 + step, step):\n",
    "        ax.add_line(\n",
    "            plt.Line2D([x, x], [0, 1],\n",
    "                       color='.85',\n",
    "                       linestyle='--',\n",
    "                       transform=ax.transAxes))\n",
    "\n",
    "g.axes[0, 0].set_title('City core extent')\n",
    "g.axes[0, 1].set_title('Agglomeration extent')\n",
    "\n",
    "g.fig.savefig('../reports/figures/population_change.pdf')"
   ]
  }
 ],
 "metadata": {
  "kernelspec": {
   "display_name": "Python (swiss-urbanization)",
   "language": "python",
   "name": "swiss-urbanization"
  },
  "language_info": {
   "codemirror_mode": {
    "name": "ipython",
    "version": 3
   },
   "file_extension": ".py",
   "mimetype": "text/x-python",
   "name": "python",
   "nbconvert_exporter": "python",
   "pygments_lexer": "ipython3",
   "version": "3.7.3"
  },
  "name": "population_change.ipynb"
 },
 "nbformat": 4,
 "nbformat_minor": 2
}
