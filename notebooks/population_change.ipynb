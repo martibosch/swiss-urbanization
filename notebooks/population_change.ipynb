{
 "cells": [
  {
   "cell_type": "code",
   "execution_count": 1,
   "metadata": {
    "autoscroll": false,
    "collapsed": false,
    "ein.hycell": false,
    "ein.tags": "worksheet-0",
    "slideshow": {
     "slide_type": "-"
    }
   },
   "outputs": [],
   "source": [
    "import matplotlib.pyplot as plt\n",
    "import pandas as pd\n",
    "import seaborn as sns"
   ]
  },
  {
   "cell_type": "code",
   "execution_count": 2,
   "metadata": {
    "autoscroll": false,
    "collapsed": false,
    "ein.hycell": false,
    "ein.tags": "worksheet-0",
    "slideshow": {
     "slide_type": "-"
    }
   },
   "outputs": [],
   "source": [
    "# set 'paper' seaborn style\n",
    "sns.set('paper')\n",
    "\n",
    "# keyword arguments to be passed to `savefig`\n",
    "savefig_kws = {\n",
    "    'dpi': 300,\n",
    "    'bbox_inches': 'tight',\n",
    "    'pad_inches': 0\n",
    "}"
   ]
  },
  {
   "cell_type": "markdown",
   "metadata": {
    "ein.tags": "worksheet-0",
    "slideshow": {
     "slide_type": "-"
    }
   },
   "source": [
    "Values are hand selected from the [Urban Audit 2015](https://www.bfs.admin.ch/bfs/fr/home/statistiques/themes-transversaux/city-statistics.assetdetail.255571.html), namely from the variable DE1001V (Total Resident Population), except for the values from 2017, which are selected from the [Agglomeration portraits](https://www.bfs.admin.ch/bfs/en/home/statistics/cross-sectional-topics/city-statistics/agglomeration-portraits.html)"
   ]
  },
  {
   "cell_type": "code",
   "execution_count": 3,
   "metadata": {
    "autoscroll": false,
    "collapsed": false,
    "ein.hycell": false,
    "ein.tags": "worksheet-0",
    "slideshow": {
     "slide_type": "-"
    }
   },
   "outputs": [],
   "source": [
    "population_df = pd.DataFrame({}, index=[1990, 2000, 2010, 2017], columns=pd.MultiIndex.from_product([['Bern', 'Lausanne', 'Zurich'], ['city', 'agglomeration']]))\n",
    "population_df.loc[:, ('Bern', 'city')] = [136338, 128634, 130289, 133115]\n",
    "population_df.loc[:, ('Bern', 'agglomeration')] = [351084, 349157, 357668, 415785]\n",
    "population_df.loc[:, ('Lausanne', 'city')] = [128112, 124914, 133269, 137810]\n",
    "population_df.loc[:, ('Lausanne', 'agglomeration')] = [300280, 311441, 339389, 415596]\n",
    "population_df.loc[:, ('Zurich', 'city')] = [365043, 363273, 382906, 402762]\n",
    "population_df.loc[:, ('Zurich', 'agglomeration')] = [1021859, 1080728, 1191058, 1354140]"
   ]
  },
  {
   "cell_type": "code",
   "execution_count": 4,
   "metadata": {
    "autoscroll": false,
    "collapsed": false,
    "ein.hycell": false,
    "ein.tags": "worksheet-0",
    "slideshow": {
     "slide_type": "-"
    }
   },
   "outputs": [],
   "source": [
    "change_df = population_df.pct_change(fill_method='pad') * 100\n",
    "change_df.index = [0] + [f'{start}-{end}' for start, end in zip(change_df.index, change_df.index[1:])]\n",
    "change_df = change_df.dropna().unstack().reset_index()\n",
    "change_df.columns = ['City', 'Extent', 'Period', 'Population change (%)']"
   ]
  },
  {
   "cell_type": "code",
   "execution_count": 5,
   "metadata": {
    "autoscroll": false,
    "collapsed": false,
    "ein.hycell": false,
    "ein.tags": "worksheet-0",
    "slideshow": {
     "slide_type": "-"
    }
   },
   "outputs": [
    {
     "data": {
      "image/png": "[encoded data removed]",
      "text/plain": [
       "<Figure size 794.18x360 with 2 Axes>"
      ]
     },
     "metadata": {},
     "output_type": "display_data"
    }
   ],
   "source": [
    "g = sns.catplot(data=change_df, col='Extent', x='Period', y='Population change (%)', hue='City', kind='bar')\n",
    "\n",
    "g.axes[0, 0].set_title('City core extent')\n",
    "g.axes[0, 1].set_title('Agglomeration extent')\n",
    "\n",
    "g.fig.savefig('../reports/figures/population_change.pdf', **savefig_kws)"
   ]
  }
 ],
 "metadata": {
  "kernelspec": {
   "display_name": "Python (swiss-urbanization)",
   "name": "swiss-urbanization"
  },
  "name": "population_change.ipynb"
 },
 "nbformat": 4,
 "nbformat_minor": 2
}
