{
 "cells": [
  {
   "cell_type": "code",
   "execution_count": 1,
   "metadata": {
    "autoscroll": false,
    "collapsed": false,
    "ein.hycell": false,
    "ein.tags": "worksheet-0",
    "slideshow": {
     "slide_type": "-"
    }
   },
   "outputs": [],
   "source": [
    "import matplotlib.pyplot as plt\n",
    "import numpy as np\n",
    "import pylandstats as pls\n",
    "import swisslandstats as sls\n",
    "from scipy import ndimage as ndi\n",
    "\n",
    "from swiss_urbanization.data import settings"
   ]
  },
  {
   "cell_type": "code",
   "execution_count": 2,
   "metadata": {
    "autoscroll": false,
    "collapsed": false,
    "ein.hycell": false,
    "ein.tags": "worksheet-0",
    "slideshow": {
     "slide_type": "-"
    }
   },
   "outputs": [],
   "source": [
    "urban_class = settings.EXTRACTS_URBAN\n",
    "nonurban_class = settings.EXTRACTS_NONURBAN\n",
    "nodata = settings.EXTRACTS_NODATA\n",
    "\n",
    "agglomeration_slugs = ['bern', 'lausanne', 'zurich']"
   ]
  },
  {
   "cell_type": "code",
   "execution_count": 3,
   "metadata": {
    "autoscroll": false,
    "collapsed": false,
    "ein.hycell": false,
    "ein.tags": "worksheet-0",
    "slideshow": {
     "slide_type": "-"
    }
   },
   "outputs": [],
   "source": [
    "agglomeration_dict = {}\n",
    "for agglomeration_slug in agglomeration_slugs:\n",
    "    ldf = sls.read_csv(\n",
    "        f'../data/processed/agglomeration_extracts/{agglomeration_slug}.csv')\n",
    "    landscapes = []\n",
    "    dates = []\n",
    "    for urban_nonurban_column in ldf.columns[ldf.columns.str.startswith('AS')]:\n",
    "        landscapes.append(\n",
    "            pls.Landscape(\n",
    "                ldf.to_ndarray(urban_nonurban_column, nodata=nodata),\n",
    "                res=ldf.res, nodata=nodata))\n",
    "        # get the year of the snapshot by taking the most recurrent timestamp\n",
    "        # (year) among the pixels\n",
    "        dates.append(\n",
    "            ldf['FJ' + urban_nonurban_column[2:4]].value_counts().index[0])\n",
    "    agglomeration_dict[agglomeration_slug] = pls.SpatioTemporalAnalysis(\n",
    "        landscapes, dates=dates)"
   ]
  },
  {
   "cell_type": "code",
   "execution_count": 4,
   "metadata": {
    "autoscroll": false,
    "collapsed": false,
    "ein.hycell": false,
    "ein.tags": "worksheet-0",
    "slideshow": {
     "slide_type": "-"
    }
   },
   "outputs": [],
   "source": [
    "kernel_moore = ndi.generate_binary_structure(2, 2)\n",
    "\n",
    "def new_patches_label(\n",
    "        landscape_base_arr, landscape_prime_arr, urban_class):\n",
    "    new_patches_arr = (landscape_prime_arr == urban_class) & \\\n",
    "                      (landscape_base_arr != urban_class)\n",
    "    return ndi.label(new_patches_arr, kernel_moore)\n",
    "\n",
    "def compute_patch_areas(label_arr):        \n",
    "    return np.bincount(label_arr.ravel())[1:]\n",
    "    \n",
    "def compute_patch_leis(label_arr, num_patches, landscape_prime_arr,\n",
    "                       urban_class, nonurban_class):\n",
    "    patch_leis = []\n",
    "    for k in range(1, num_patches + 1):\n",
    "        patch_arr = label_arr == k\n",
    "        buffer_zone_arr = ndi.binary_dilation(\n",
    "            patch_arr, kernel_moore) & ~patch_arr\n",
    "        buffer_classes = landscape_prime_arr[buffer_zone_arr]\n",
    "        area_urban = np.sum(buffer_classes == urban_class)\n",
    "        area_nonurban = np.sum(buffer_classes == nonurban_class)\n",
    "        patch_leis.append(area_urban / (area_urban + area_nonurban))\n",
    "\n",
    "    return patch_leis"
   ]
  },
  {
   "cell_type": "code",
   "execution_count": 5,
   "metadata": {
    "autoscroll": false,
    "collapsed": false,
    "ein.hycell": false,
    "ein.tags": "worksheet-0",
    "slideshow": {
     "slide_type": "-"
    }
   },
   "outputs": [],
   "source": [
    "def area_weighted_count(patch_areas, cond):\n",
    "    return np.sum(patch_areas[cond]) / np.sum(patch_areas)\n",
    "\n",
    "def plot_growth_modes(sta, urban_class, nonurban_class,\n",
    "                      weight='number', ax=None, subplots_kws={}):\n",
    "    if ax is None:\n",
    "        fig, ax = plt.subplots(**subplots_kws)\n",
    "\n",
    "    t_range = range(len(sta) - 1)\n",
    "    # grouped bar plot idea from Chris Albon https://bit.ly/2JrybQ5\n",
    "    pos = list(t_range)\n",
    "    width = .25\n",
    "\n",
    "    leapfrogs = np.zeros(len(t_range))\n",
    "    edge_expansions = np.zeros(len(t_range))\n",
    "    infills = np.zeros(len(t_range))\n",
    "    for t in t_range:\n",
    "        landscape_base_arr = sta.landscapes[t].landscape_arr\n",
    "        landscape_prime_arr = sta.landscapes[t + 1].landscape_arr\n",
    "        label_arr, num_patches = new_patches_label(\n",
    "            landscape_base_arr, landscape_prime_arr, urban_class)\n",
    "        patch_leis = np.array(\n",
    "            compute_patch_leis(label_arr, num_patches, landscape_prime_arr,\n",
    "                               urban_class, nonurban_class))\n",
    "\n",
    "        leapfrog_cond = np.isclose(patch_leis, 0)\n",
    "        edge_expansion_cond = (patch_leis > 0) & (patch_leis <= .5)\n",
    "        infill_cond = patch_leis > .5\n",
    "        \n",
    "        if weight == 'number':\n",
    "            leapfrog = np.sum(leapfrog_cond) / num_patches\n",
    "            edge_expansion = np.sum(edge_expansion_cond) / num_patches\n",
    "            infill = np.sum(infill_cond) / num_patches\n",
    "        else:  # 'area'\n",
    "            patch_areas = compute_patch_areas(label_arr)\n",
    "            leapfrog = area_weighted_count(patch_areas, leapfrog_cond)\n",
    "            edge_expansion = area_weighted_count(\n",
    "                patch_areas, edge_expansion_cond)\n",
    "            infill = area_weighted_count(patch_areas, infill_cond)\n",
    "\n",
    "        leapfrogs[t] = leapfrog\n",
    "        edge_expansions[t] = edge_expansion\n",
    "        infills[t] = infill\n",
    "\n",
    "    ax.bar(pos, leapfrogs * 100, width, label='leapfrog')\n",
    "    ax.bar([p + width for p in pos], edge_expansions * 100, width,\n",
    "           label='edge-expansion')\n",
    "    ax.bar([p + 2 * width for p in pos], infills * 100, width,\n",
    "           label='infilling')\n",
    "    \n",
    "    # if weight == 'number':\n",
    "    #     ax.set_ylabel('% patch number')\n",
    "    # else:  # 'area'\n",
    "    #     ax.set_ylabel('% area')\n",
    "    ax.set_xticks([p + width for p in pos])\n",
    "    ax.set_xticklabels(\n",
    "        ['{}-{}'.format(sta.dates[t], sta.dates[t+1]) for t in t_range])\n",
    "    # ax.legend()\n",
    "    \n",
    "    return ax"
   ]
  },
  {
   "cell_type": "code",
   "execution_count": 6,
   "metadata": {
    "autoscroll": false,
    "collapsed": false,
    "ein.hycell": false,
    "ein.tags": "worksheet-0",
    "slideshow": {
     "slide_type": "-"
    }
   },
   "outputs": [
    {
     "data": {
      "image/png": "[encoded data removed]",
      "text/plain": [
       "<Figure size 1296x576 with 6 Axes>"
      ]
     },
     "metadata": {},
     "output_type": "display_data"
    }
   ],
   "source": [
    "num_agglomerations = len(agglomeration_dict)\n",
    "num_cols = num_agglomerations\n",
    "num_rows = 2  # by patch number and by area\n",
    "\n",
    "figwidth, figheight = plt.rcParams['figure.figsize']\n",
    "fig, axes = plt.subplots(\n",
    "    num_rows,\n",
    "    num_cols,\n",
    "    sharey=True,\n",
    "    figsize=(num_cols * figwidth, num_rows * figheight))\n",
    "\n",
    "for i, agglomeration_slug in enumerate(agglomeration_slugs):\n",
    "    agglomeration_sta = agglomeration_dict[agglomeration_slug]\n",
    "    \n",
    "    # first plot (above) - by patch number\n",
    "    ax = axes[0][i]\n",
    "    ax.set_title(agglomeration_slug.capitalize())\n",
    "    plot_growth_modes(agglomeration_sta, urban_class, nonurban_class,\n",
    "                      weight='number', ax=ax)\n",
    "    ax.margins(y=.3)\n",
    "    ax.legend()\n",
    "\n",
    "    # second plot (below) - by area\n",
    "    ax = axes[1][i]\n",
    "    plot_growth_modes(agglomeration_sta, urban_class, nonurban_class,\n",
    "                      weight='area', ax=ax)\n",
    "    ax.margins(y=.3)\n",
    "    ax.legend()\n",
    "\n",
    "fig.axes[0].set_ylabel('% Patch number')\n",
    "fig.axes[num_cols].set_ylabel('% Area')\n",
    "fig.savefig('../reports/figures/growth_modes.pdf')"
   ]
  }
 ],
 "metadata": {
  "kernelspec": {
   "display_name": "Python (swiss-urbanization)",
   "name": "swiss-urbanization"
  },
  "name": "growth_modes.ipynb"
 },
 "nbformat": 4,
 "nbformat_minor": 2
}
