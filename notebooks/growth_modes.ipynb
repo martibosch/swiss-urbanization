{
 "cells": [
  {
   "cell_type": "markdown",
   "metadata": {
    "ein.tags": "worksheet-0",
    "slideshow": {
     "slide_type": "-"
    }
   },
   "source": [
    "# Growth modes"
   ]
  },
  {
   "cell_type": "code",
   "execution_count": 1,
   "metadata": {
    "autoscroll": false,
    "collapsed": false,
    "ein.hycell": false,
    "ein.tags": "worksheet-0",
    "slideshow": {
     "slide_type": "-"
    }
   },
   "outputs": [
    {
     "name": "stdout",
     "output_type": "stream",
     "text": [
      "make: Entering directory '/home/martibosch/data-science/swiss-urbanization'\r\n",
      "make: Nothing to be done for 'breakpoints'.\r\n",
      "make: Leaving directory '/home/martibosch/data-science/swiss-urbanization'\r\n"
     ]
    }
   ],
   "source": [
    "!make -C .. breakpoints"
   ]
  },
  {
   "cell_type": "code",
   "execution_count": 2,
   "metadata": {
    "autoscroll": false,
    "collapsed": false,
    "ein.hycell": false,
    "ein.tags": "worksheet-0",
    "slideshow": {
     "slide_type": "-"
    }
   },
   "outputs": [],
   "source": [
    "import json\n",
    "\n",
    "import matplotlib.pyplot as plt\n",
    "import numpy as np\n",
    "import pylandstats as pls\n",
    "import swisslandstats as sls\n",
    "from scipy import ndimage as ndi\n",
    "\n",
    "from swiss_urbanization import settings, utils\n",
    "\n",
    "# get default plot dimensions to be used below\n",
    "figwidth, figheight = plt.rcParams['figure.figsize']"
   ]
  },
  {
   "cell_type": "code",
   "execution_count": 3,
   "metadata": {
    "autoscroll": false,
    "collapsed": false,
    "ein.hycell": false,
    "ein.tags": "worksheet-0",
    "slideshow": {
     "slide_type": "-"
    }
   },
   "outputs": [],
   "source": [
    "agglom_slugs = ['bern', 'lausanne', 'zurich']\n",
    "\n",
    "urban_class = settings.EXTRACTS_URBAN\n",
    "nonurban_class = settings.EXTRACTS_NONURBAN\n",
    "nodata = settings.EXTRACTS_NODATA\n",
    "\n",
    "base_mask_dict = settings.BASE_MASK_DICT\n",
    "base_mask_crs = settings.BASE_MASK_CRS\n",
    "max_buffer_dist = settings.MAX_BUFFER_DIST"
   ]
  },
  {
   "cell_type": "code",
   "execution_count": 4,
   "metadata": {
    "autoscroll": false,
    "collapsed": false,
    "ein.hycell": false,
    "ein.tags": "worksheet-0",
    "slideshow": {
     "slide_type": "-"
    }
   },
   "outputs": [],
   "source": [
    "agglom_extent_dict = {}\n",
    "agglom_inner_dict = {}\n",
    "agglom_outer_dict = {}\n",
    "\n",
    "for agglom_slug in agglom_slugs:\n",
    "    ldf = sls.read_csv(\n",
    "        f'../data/processed/agglomeration_extracts/{agglom_slug}.csv')\n",
    "    landscapes, dates = utils.get_landscapes_and_dates(ldf, nodata)\n",
    "    with open(f'../data/processed/breakpoints/{agglom_slug}.json') as fp:\n",
    "        agglom_bkps = json.load(fp)    \n",
    "    agglom_extent_dict[agglom_slug] = pls.SpatioTemporalAnalysis(landscapes,\n",
    "                                                                 dates=dates)\n",
    "    agglom_stba = pls.SpatioTemporalBufferAnalysis(\n",
    "        landscapes,\n",
    "        base_mask_dict[agglom_slug],\n",
    "        buffer_rings=True,\n",
    "        buffer_dists=[agglom_bkps[-1], max_buffer_dist],\n",
    "        base_mask_crs=base_mask_crs,\n",
    "        landscape_crs=ldf.crs,\n",
    "        landscape_transform=ldf.get_transform(),\n",
    "        dates=dates)\n",
    "    agglom_inner_dict[agglom_slug] = agglom_stba.stas[0]\n",
    "    agglom_outer_dict[agglom_slug] = agglom_stba.stas[-1]    "
   ]
  },
  {
   "cell_type": "code",
   "execution_count": 5,
   "metadata": {
    "autoscroll": false,
    "collapsed": false,
    "ein.hycell": false,
    "ein.tags": "worksheet-0",
    "slideshow": {
     "slide_type": "-"
    }
   },
   "outputs": [],
   "source": [
    "kernel_moore = ndi.generate_binary_structure(2, 2)\n",
    "\n",
    "\n",
    "def new_patches_label(landscape_base_arr, landscape_prime_arr, urban_class):\n",
    "    new_patches_arr = (landscape_prime_arr == urban_class) & \\\n",
    "                      (landscape_base_arr != urban_class)\n",
    "    return ndi.label(new_patches_arr, kernel_moore)\n",
    "\n",
    "\n",
    "def compute_patch_areas(label_arr):\n",
    "    return np.bincount(label_arr.ravel())[1:]\n",
    "\n",
    "\n",
    "def compute_patch_leis(label_arr, num_patches, landscape_prime_arr,\n",
    "                       urban_class, nonurban_class):\n",
    "    patch_leis = []\n",
    "    for k in range(1, num_patches + 1):\n",
    "        patch_arr = label_arr == k\n",
    "        buffer_zone_arr = ndi.binary_dilation(patch_arr,\n",
    "                                              kernel_moore) & ~patch_arr\n",
    "        buffer_classes = landscape_prime_arr[buffer_zone_arr]\n",
    "        area_urban = np.sum(buffer_classes == urban_class)\n",
    "        area_nonurban = np.sum(buffer_classes == nonurban_class)\n",
    "        patch_leis.append(area_urban / (area_urban + area_nonurban))\n",
    "\n",
    "    return patch_leis"
   ]
  },
  {
   "cell_type": "code",
   "execution_count": 6,
   "metadata": {
    "autoscroll": false,
    "collapsed": false,
    "ein.hycell": false,
    "ein.tags": "worksheet-0",
    "slideshow": {
     "slide_type": "-"
    }
   },
   "outputs": [],
   "source": [
    "def area_weighted_count(patch_areas, cond):\n",
    "    return np.sum(patch_areas[cond]) / np.sum(patch_areas)\n",
    "\n",
    "\n",
    "def plot_growth_modes(sta,\n",
    "                      urban_class,\n",
    "                      nonurban_class,\n",
    "                      weight='number',\n",
    "                      ax=None,\n",
    "                      subplots_kws={}):\n",
    "    if ax is None:\n",
    "        fig, ax = plt.subplots(**subplots_kws)\n",
    "\n",
    "    t_range = range(len(sta) - 1)\n",
    "    # grouped bar plot idea from Chris Albon https://bit.ly/2JrybQ5\n",
    "    pos = list(t_range)\n",
    "    width = .25\n",
    "\n",
    "    leapfrogs = np.zeros(len(t_range))\n",
    "    edge_expansions = np.zeros(len(t_range))\n",
    "    infills = np.zeros(len(t_range))\n",
    "    for t in t_range:\n",
    "        landscape_base_arr = sta.landscapes[t].landscape_arr\n",
    "        landscape_prime_arr = sta.landscapes[t + 1].landscape_arr\n",
    "        label_arr, num_patches = new_patches_label(landscape_base_arr,\n",
    "                                                   landscape_prime_arr,\n",
    "                                                   urban_class)\n",
    "        patch_leis = np.array(\n",
    "            compute_patch_leis(label_arr, num_patches, landscape_prime_arr,\n",
    "                               urban_class, nonurban_class))\n",
    "\n",
    "        leapfrog_cond = np.isclose(patch_leis, 0)\n",
    "        edge_expansion_cond = (patch_leis > 0) & (patch_leis <= .5)\n",
    "        infill_cond = patch_leis > .5\n",
    "\n",
    "        if weight == 'number':\n",
    "            leapfrog = np.sum(leapfrog_cond) / num_patches\n",
    "            edge_expansion = np.sum(edge_expansion_cond) / num_patches\n",
    "            infill = np.sum(infill_cond) / num_patches\n",
    "        else:  # 'area'\n",
    "            patch_areas = compute_patch_areas(label_arr)\n",
    "            leapfrog = area_weighted_count(patch_areas, leapfrog_cond)\n",
    "            edge_expansion = area_weighted_count(patch_areas,\n",
    "                                                 edge_expansion_cond)\n",
    "            infill = area_weighted_count(patch_areas, infill_cond)\n",
    "\n",
    "        leapfrogs[t] = leapfrog\n",
    "        edge_expansions[t] = edge_expansion\n",
    "        infills[t] = infill\n",
    "\n",
    "    print('leapfrog: ', leapfrogs)\n",
    "    print('edge expansion: ', edge_expansions)\n",
    "    print('infilling: ', infills)\n",
    "    ax.bar(pos, leapfrogs * 100, width, label='leapfrog')\n",
    "    ax.bar([p + width for p in pos],\n",
    "           edge_expansions * 100,\n",
    "           width,\n",
    "           label='edge-expansion')\n",
    "    ax.bar([p + 2 * width for p in pos],\n",
    "           infills * 100,\n",
    "           width,\n",
    "           label='infilling')\n",
    "\n",
    "    if weight == 'number':\n",
    "        ax.set_ylabel('% patch number')\n",
    "    else:  # 'area'\n",
    "        ax.set_ylabel('% area')\n",
    "    ax.set_xticks([p + width for p in pos])\n",
    "    ax.set_xticklabels(\n",
    "        ['{}-{}'.format(sta.dates[t], sta.dates[t + 1]) for t in t_range])\n",
    "    ax.legend()\n",
    "\n",
    "    return ax"
   ]
  },
  {
   "cell_type": "code",
   "execution_count": 7,
   "metadata": {
    "autoscroll": false,
    "collapsed": false,
    "ein.hycell": false,
    "ein.tags": "worksheet-0",
    "slideshow": {
     "slide_type": "-"
    }
   },
   "outputs": [
    {
     "name": "stdout",
     "output_type": "stream",
     "text": [
      "Bern\n",
      "\n",
      "Agglomeration extent\n"
     ]
    },
    {
     "name": "stdout",
     "output_type": "stream",
     "text": [
      "leapfrog:  [0.11655874 0.13157895 0.14616498]\n",
      "edge expansion:  [0.62442183 0.58881579 0.53256151]\n",
      "infilling:  [0.25901943 0.27960526 0.32127352]\n",
      "\n",
      "Inner zone\n"
     ]
    },
    {
     "name": "stdout",
     "output_type": "stream",
     "text": [
      "leapfrog:  [0.015625 0.       0.      ]\n",
      "edge expansion:  [0.171875   0.19607843 0.22727273]\n",
      "infilling:  [0.8125     0.80392157 0.77272727]\n",
      "\n",
      "Outer zone\n"
     ]
    },
    {
     "name": "stdout",
     "output_type": "stream",
     "text": [
      "leapfrog:  [0.12389381 0.13969732 0.15838509]\n",
      "edge expansion:  [0.64503441 0.61001164 0.54968944]\n",
      "infilling:  [0.23107178 0.25029104 0.29192547]\n",
      "\n",
      "Lausanne\n",
      "\n",
      "Agglomeration extent\n"
     ]
    },
    {
     "name": "stdout",
     "output_type": "stream",
     "text": [
      "leapfrog:  [0.12040816 0.1582015  0.10469314]\n",
      "edge expansion:  [0.58095238 0.58368027 0.54753309]\n",
      "infilling:  [0.29863946 0.25811823 0.34777377]\n",
      "\n",
      "Inner zone\n"
     ]
    },
    {
     "name": "stdout",
     "output_type": "stream",
     "text": [
      "leapfrog:  [0.         0.01851852 0.        ]\n",
      "edge expansion:  [0.38938053 0.14814815 0.10204082]\n",
      "infilling:  [0.61061947 0.83333333 0.89795918]\n",
      "\n",
      "Outer zone\n"
     ]
    },
    {
     "name": "stdout",
     "output_type": "stream",
     "text": [
      "leapfrog:  [0.128782   0.16311399 0.10848401]\n",
      "edge expansion:  [0.58494957 0.59777572 0.56884562]\n",
      "infilling:  [0.28626843 0.23911029 0.32267038]\n",
      "\n",
      "Zurich\n",
      "\n",
      "Agglomeration extent\n"
     ]
    },
    {
     "name": "stdout",
     "output_type": "stream",
     "text": [
      "leapfrog:  [0.09182707 0.0558109  0.08531746]\n",
      "edge expansion:  [0.51656674 0.47307945 0.44444444]\n",
      "infilling:  [0.39160618 0.47110965 0.4702381 ]\n",
      "\n",
      "Inner zone\n"
     ]
    },
    {
     "name": "stdout",
     "output_type": "stream",
     "text": [
      "leapfrog:  [0.02507837 0.00401606 0.02205882]\n",
      "edge expansion:  [0.31034483 0.29317269 0.35294118]\n",
      "infilling:  [0.6645768  0.70281124 0.625     ]\n",
      "\n",
      "Outer zone\n"
     ]
    },
    {
     "name": "stdout",
     "output_type": "stream",
     "text": [
      "leapfrog:  [0.09435666 0.05122393 0.09056244]\n",
      "edge expansion:  [0.53047404 0.47688123 0.45185891]\n",
      "infilling:  [0.3751693  0.47189483 0.45757865]\n",
      "\n"
     ]
    },
    {
     "data": {
      "image/png": "[encoded data removed]",
      "text/plain": [
       "<Figure size 1296x864 with 9 Axes>"
      ]
     },
     "metadata": {},
     "output_type": "display_data"
    }
   ],
   "source": [
    "num_cols = 3\n",
    "num_rows = len(agglom_slugs)\n",
    "\n",
    "extents = ('Agglomeration extent', 'Inner zone', 'Outer zone')\n",
    "\n",
    "fig, axes = plt.subplots(num_rows,\n",
    "                         num_cols,\n",
    "                         sharey=True,\n",
    "                         figsize=(num_cols * figwidth, num_rows * figheight))\n",
    "for agglom_slug, axs in zip(agglom_slugs, axes):\n",
    "    print(f'{agglom_slug.capitalize()}')\n",
    "    for agglom_dict, extent, ax in zip(\n",
    "        (agglom_extent_dict, agglom_inner_dict, agglom_outer_dict), extents, axs):\n",
    "        agglom_sta = agglom_dict[agglom_slug]\n",
    "        print(f'\\n{extent}')\n",
    "        plot_growth_modes(agglom_sta,\n",
    "                          urban_class,\n",
    "                          nonurban_class,\n",
    "                          weight='area',\n",
    "                          ax=ax)\n",
    "        ax.margins(y=.3)\n",
    "    print()  # breakline\n",
    "\n",
    "for ax, extent in zip(axes[0], extents):\n",
    "    ax.set_title(extent, fontsize='x-large', pad=15)\n",
    "\n",
    "for ax, agglom_slug in zip(axes[:, 0], agglom_slugs):\n",
    "    ax.annotate(agglom_slug.capitalize(),\n",
    "                xy=(0, 0.5),\n",
    "                xytext=(-ax.yaxis.labelpad - 5, 0),\n",
    "                xycoords=ax.yaxis.label,\n",
    "                textcoords='offset points',\n",
    "                size='x-large',\n",
    "                ha='right',\n",
    "                va='center', rotation='vertical')\n",
    "\n",
    "fig.savefig('../reports/figures/growth_modes.eps')"
   ]
  }
 ],
 "metadata": {
  "kernelspec": {
   "argv": [
    "/home/martibosch/anaconda3/envs/swiss-urbanization/bin/python",
    "-m",
    "ipykernel_launcher",
    "-f",
    "{connection_file}"
   ],
   "display_name": "Python (swiss-urbanization)",
   "env": null,
   "interrupt_mode": "signal",
   "language": "python",
   "metadata": null,
   "name": "swiss-urbanization"
  },
  "language_info": {
   "codemirror_mode": {
    "name": "ipython",
    "version": 3
   },
   "file_extension": ".py",
   "mimetype": "text/x-python",
   "name": "python",
   "nbconvert_exporter": "python",
   "pygments_lexer": "ipython3",
   "version": "3.7.3"
  },
  "name": "growth_modes.ipynb"
 },
 "nbformat": 4,
 "nbformat_minor": 2
}
